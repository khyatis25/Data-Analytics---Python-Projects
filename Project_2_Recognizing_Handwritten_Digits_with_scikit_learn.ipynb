{
  "nbformat": 4,
  "nbformat_minor": 0,
  "metadata": {
    "colab": {
      "name": "Project 2 - Recognizing Handwritten Digits with scikit-learn.ipynb",
      "provenance": [],
      "collapsed_sections": [],
      "authorship_tag": "ABX9TyNE/06JcfjI2xnth4OyKMEe",
      "include_colab_link": true
    },
    "kernelspec": {
      "name": "python3",
      "display_name": "Python 3"
    },
    "language_info": {
      "name": "python"
    }
  },
  "cells": [
    {
      "cell_type": "markdown",
      "metadata": {
        "id": "view-in-github",
        "colab_type": "text"
      },
      "source": [
        "<a href=\"https://colab.research.google.com/github/khyatis25/Data-Analytics---Python-Projects/blob/main/Project_2_Recognizing_Handwritten_Digits_with_scikit_learn.ipynb\" target=\"_parent\"><img src=\"https://colab.research.google.com/assets/colab-badge.svg\" alt=\"Open In Colab\"/></a>"
      ]
    },
    {
      "cell_type": "markdown",
      "source": [
        "**Project 2**"
      ],
      "metadata": {
        "id": "XGS9Asl9sPdI"
      }
    },
    {
      "cell_type": "code",
      "execution_count": 1,
      "metadata": {
        "id": "acU4JLGgr5Wn"
      },
      "outputs": [],
      "source": [
        "import pandas as pd\n",
        "import numpy as np\n",
        "import matplotlib.pyplot as plt\n",
        "import seaborn as sns"
      ]
    },
    {
      "cell_type": "code",
      "source": [
        "from sklearn import datasets\n",
        "digits = datasets.load_digits()\n",
        "print(digits.DESCR)"
      ],
      "metadata": {
        "colab": {
          "base_uri": "https://localhost:8080/"
        },
        "id": "6_s2m65Bs8Hd",
        "outputId": "701a6121-2662-43a3-a48e-0164ee0cbad3"
      },
      "execution_count": 2,
      "outputs": [
        {
          "output_type": "stream",
          "name": "stdout",
          "text": [
            ".. _digits_dataset:\n",
            "\n",
            "Optical recognition of handwritten digits dataset\n",
            "--------------------------------------------------\n",
            "\n",
            "**Data Set Characteristics:**\n",
            "\n",
            "    :Number of Instances: 1797\n",
            "    :Number of Attributes: 64\n",
            "    :Attribute Information: 8x8 image of integer pixels in the range 0..16.\n",
            "    :Missing Attribute Values: None\n",
            "    :Creator: E. Alpaydin (alpaydin '@' boun.edu.tr)\n",
            "    :Date: July; 1998\n",
            "\n",
            "This is a copy of the test set of the UCI ML hand-written digits datasets\n",
            "https://archive.ics.uci.edu/ml/datasets/Optical+Recognition+of+Handwritten+Digits\n",
            "\n",
            "The data set contains images of hand-written digits: 10 classes where\n",
            "each class refers to a digit.\n",
            "\n",
            "Preprocessing programs made available by NIST were used to extract\n",
            "normalized bitmaps of handwritten digits from a preprinted form. From a\n",
            "total of 43 people, 30 contributed to the training set and different 13\n",
            "to the test set. 32x32 bitmaps are divided into nonoverlapping blocks of\n",
            "4x4 and the number of on pixels are counted in each block. This generates\n",
            "an input matrix of 8x8 where each element is an integer in the range\n",
            "0..16. This reduces dimensionality and gives invariance to small\n",
            "distortions.\n",
            "\n",
            "For info on NIST preprocessing routines, see M. D. Garris, J. L. Blue, G.\n",
            "T. Candela, D. L. Dimmick, J. Geist, P. J. Grother, S. A. Janet, and C.\n",
            "L. Wilson, NIST Form-Based Handprint Recognition System, NISTIR 5469,\n",
            "1994.\n",
            "\n",
            ".. topic:: References\n",
            "\n",
            "  - C. Kaynak (1995) Methods of Combining Multiple Classifiers and Their\n",
            "    Applications to Handwritten Digit Recognition, MSc Thesis, Institute of\n",
            "    Graduate Studies in Science and Engineering, Bogazici University.\n",
            "  - E. Alpaydin, C. Kaynak (1998) Cascading Classifiers, Kybernetika.\n",
            "  - Ken Tang and Ponnuthurai N. Suganthan and Xi Yao and A. Kai Qin.\n",
            "    Linear dimensionalityreduction using relevance weighted LDA. School of\n",
            "    Electrical and Electronic Engineering Nanyang Technological University.\n",
            "    2005.\n",
            "  - Claudio Gentile. A New Approximate Maximal Margin Classification\n",
            "    Algorithm. NIPS. 2000.\n",
            "\n"
          ]
        }
      ]
    },
    {
      "cell_type": "code",
      "source": [
        "#all the numbers are stored in images array form\n",
        "digits.images[0]"
      ],
      "metadata": {
        "colab": {
          "base_uri": "https://localhost:8080/"
        },
        "id": "3n7eqNifs_HY",
        "outputId": "1403ae5d-3662-41b7-a273-219135641cc7"
      },
      "execution_count": 3,
      "outputs": [
        {
          "output_type": "execute_result",
          "data": {
            "text/plain": [
              "array([[ 0.,  0.,  5., 13.,  9.,  1.,  0.,  0.],\n",
              "       [ 0.,  0., 13., 15., 10., 15.,  5.,  0.],\n",
              "       [ 0.,  3., 15.,  2.,  0., 11.,  8.,  0.],\n",
              "       [ 0.,  4., 12.,  0.,  0.,  8.,  8.,  0.],\n",
              "       [ 0.,  5.,  8.,  0.,  0.,  9.,  8.,  0.],\n",
              "       [ 0.,  4., 11.,  0.,  1., 12.,  7.,  0.],\n",
              "       [ 0.,  2., 14.,  5., 10., 12.,  0.,  0.],\n",
              "       [ 0.,  0.,  6., 13., 10.,  0.,  0.,  0.]])"
            ]
          },
          "metadata": {},
          "execution_count": 3
        }
      ]
    },
    {
      "cell_type": "code",
      "source": [
        "main_data = digits['data']\n",
        "targets = digits['target']\n",
        "print(len(main_data))"
      ],
      "metadata": {
        "colab": {
          "base_uri": "https://localhost:8080/"
        },
        "id": "nWzwg1bhtDtm",
        "outputId": "5d72a733-b5b1-4bf0-8cbf-e15a4b24a1b5"
      },
      "execution_count": 4,
      "outputs": [
        {
          "output_type": "stream",
          "name": "stdout",
          "text": [
            "1797\n"
          ]
        }
      ]
    },
    {
      "cell_type": "code",
      "source": [
        "#function to display digit\n",
        "\n",
        "%matplotlib inline\n",
        "def show_digit(index):\n",
        "    plt.imshow(digits.images[index], cmap=plt.cm.gray_r, interpolation='nearest')\n",
        "    plt.title('The digit is: '+ str(digits.target[index]))\n",
        "    plt.show()"
      ],
      "metadata": {
        "id": "NjInzkZ_tH0B"
      },
      "execution_count": 5,
      "outputs": []
    },
    {
      "cell_type": "code",
      "source": [
        "show_digit(7)"
      ],
      "metadata": {
        "colab": {
          "base_uri": "https://localhost:8080/",
          "height": 281
        },
        "id": "eYbPrnt5tKXO",
        "outputId": "32748511-d73f-444e-cc62-19201bc8fa0d"
      },
      "execution_count": 6,
      "outputs": [
        {
          "output_type": "display_data",
          "data": {
            "text/plain": [
              "<Figure size 432x288 with 1 Axes>"
            ],
            "image/png": "[encoded data removed]"
          },
          "metadata": {
            "needs_background": "light"
          }
        }
      ]
    },
    {
      "cell_type": "code",
      "source": [
        "%matplotlib inline\n",
        "\n",
        "plt.subplot(321)\n",
        "plt.imshow(digits.images[1791], cmap=plt.cm.gray_r,\n",
        "interpolation='nearest')\n",
        "\n",
        "plt.subplot(322)\n",
        "plt.imshow(digits.images[1792], cmap=plt.cm.gray_r,\n",
        "interpolation='nearest')\n",
        "\n",
        "plt.subplot(323)\n",
        "plt.imshow(digits.images[1793], cmap=plt.cm.gray_r,\n",
        "interpolation='nearest')\n",
        "\n",
        "plt.subplot(324)\n",
        "plt.imshow(digits.images[1794], cmap=plt.cm.gray_r,\n",
        "interpolation='nearest')\n",
        "\n",
        "plt.subplot(325)\n",
        "plt.imshow(digits.images[1795], cmap=plt.cm.gray_r,\n",
        "interpolation='nearest')\n",
        "\n",
        "plt.subplot(326)\n",
        "plt.imshow(digits.images[1796], cmap=plt.cm.gray_r,\n",
        "interpolation='nearest')"
      ],
      "metadata": {
        "colab": {
          "base_uri": "https://localhost:8080/",
          "height": 283
        },
        "id": "3mTByzXBtPW6",
        "outputId": "7fe0330b-a129-47db-c03f-c83ed2abe1bc"
      },
      "execution_count": 7,
      "outputs": [
        {
          "output_type": "execute_result",
          "data": {
            "text/plain": [
              "<matplotlib.image.AxesImage at 0x7f11c1aa6cd0>"
            ]
          },
          "metadata": {},
          "execution_count": 7
        },
        {
          "output_type": "display_data",
          "data": {
            "text/plain": [
              "<Figure size 432x288 with 6 Axes>"
            ],
            "image/png": "[encoded data removed]"
          },
          "metadata": {
            "needs_background": "light"
          }
        }
      ]
    },
    {
      "cell_type": "markdown",
      "source": [
        "Support vector classifier "
      ],
      "metadata": {
        "id": "vPXdqtLZtTrF"
      }
    },
    {
      "cell_type": "code",
      "source": [
        "from sklearn import svm\n",
        "svc = svm.SVC(gamma = 0.001, C=100.)"
      ],
      "metadata": {
        "id": "m0f_cm6XtZlJ"
      },
      "execution_count": 8,
      "outputs": []
    },
    {
      "cell_type": "code",
      "source": [
        "svc.fit(main_data[:1790] , targets[:1790])"
      ],
      "metadata": {
        "colab": {
          "base_uri": "https://localhost:8080/"
        },
        "id": "ndZrC3_jtdQ5",
        "outputId": "80aeccf5-6157-4a6c-c88b-87ba95bd964b"
      },
      "execution_count": 9,
      "outputs": [
        {
          "output_type": "execute_result",
          "data": {
            "text/plain": [
              "SVC(C=100.0, gamma=0.001)"
            ]
          },
          "metadata": {},
          "execution_count": 9
        }
      ]
    },
    {
      "cell_type": "code",
      "source": [
        "predictions = svc.predict(main_data[1791:])"
      ],
      "metadata": {
        "id": "8FtRa0UWtg5Y"
      },
      "execution_count": 10,
      "outputs": []
    },
    {
      "cell_type": "code",
      "source": [
        "predictions , targets[1791:]"
      ],
      "metadata": {
        "colab": {
          "base_uri": "https://localhost:8080/"
        },
        "id": "gdopYfZ2tjJb",
        "outputId": "d8f37362-74f8-4017-e411-a82319b8ed91"
      },
      "execution_count": 11,
      "outputs": [
        {
          "output_type": "execute_result",
          "data": {
            "text/plain": [
              "(array([4, 9, 0, 8, 9, 8]), array([4, 9, 0, 8, 9, 8]))"
            ]
          },
          "metadata": {},
          "execution_count": 11
        }
      ]
    },
    {
      "cell_type": "markdown",
      "source": [
        "Decision Tree Classifier"
      ],
      "metadata": {
        "id": "7tzjkXmrtlWo"
      }
    },
    {
      "cell_type": "code",
      "source": [
        "from sklearn.tree import DecisionTreeClassifier"
      ],
      "metadata": {
        "id": "3W0lu5n0toNm"
      },
      "execution_count": 12,
      "outputs": []
    },
    {
      "cell_type": "code",
      "source": [
        "dt = DecisionTreeClassifier(criterion = 'gini')\n",
        "dt.fit(main_data[:1600] , targets[:1600]) # this time we only use 1600 as train and 197 as test"
      ],
      "metadata": {
        "colab": {
          "base_uri": "https://localhost:8080/"
        },
        "id": "e3b51fQStr7-",
        "outputId": "f514ebe9-a210-489a-9ca2-90374a44068b"
      },
      "execution_count": 13,
      "outputs": [
        {
          "output_type": "execute_result",
          "data": {
            "text/plain": [
              "DecisionTreeClassifier()"
            ]
          },
          "metadata": {},
          "execution_count": 13
        }
      ]
    },
    {
      "cell_type": "code",
      "source": [
        "prediction2 = dt.predict(main_data[1601:])"
      ],
      "metadata": {
        "id": "dOPwQYyctw58"
      },
      "execution_count": 14,
      "outputs": []
    },
    {
      "cell_type": "code",
      "source": [
        "from sklearn.metrics import accuracy_score\n",
        "from sklearn.metrics import confusion_matrix"
      ],
      "metadata": {
        "id": "XVX6zO3NtzeC"
      },
      "execution_count": 15,
      "outputs": []
    },
    {
      "cell_type": "code",
      "source": [
        "confusion_matrix(targets[1601:], prediction2)"
      ],
      "metadata": {
        "colab": {
          "base_uri": "https://localhost:8080/"
        },
        "id": "no8KzAkTt2Cw",
        "outputId": "7027308b-8663-4e56-f840-95e65ac78246"
      },
      "execution_count": 16,
      "outputs": [
        {
          "output_type": "execute_result",
          "data": {
            "text/plain": [
              "array([[17,  0,  0,  0,  0,  0,  0,  0,  0,  0],\n",
              "       [ 0, 17,  0,  0,  1,  0,  0,  0,  2,  0],\n",
              "       [ 0,  0, 13,  1,  0,  1,  0,  1,  1,  0],\n",
              "       [ 0,  2,  1, 10,  1,  2,  0,  5,  1,  0],\n",
              "       [ 0,  0,  0,  0, 18,  0,  1,  2,  0,  1],\n",
              "       [ 0,  0,  0,  1,  0, 15,  1,  1,  1,  0],\n",
              "       [ 0,  0,  0,  1,  1,  1, 19,  0,  0,  0],\n",
              "       [ 0,  0,  0,  2,  0,  1,  0, 16,  0,  1],\n",
              "       [ 0,  1,  1,  0,  0,  0,  0,  1, 14,  0],\n",
              "       [ 0,  1,  0,  0,  0,  0,  0,  2,  1, 16]])"
            ]
          },
          "metadata": {},
          "execution_count": 16
        }
      ]
    },
    {
      "cell_type": "code",
      "source": [
        "accuracy_score(targets[1601:], prediction2)"
      ],
      "metadata": {
        "colab": {
          "base_uri": "https://localhost:8080/"
        },
        "id": "b3cCXYLxt4kB",
        "outputId": "ae438160-1dd7-45ee-ad9e-baf33dc3aee9"
      },
      "execution_count": 17,
      "outputs": [
        {
          "output_type": "execute_result",
          "data": {
            "text/plain": [
              "0.7908163265306123"
            ]
          },
          "metadata": {},
          "execution_count": 17
        }
      ]
    },
    {
      "cell_type": "markdown",
      "source": [
        "From Decision Tree Classifier we get 78 % Accuracy Training Data : 1600 Test_data : 197"
      ],
      "metadata": {
        "id": "bjcjvNH-t8EH"
      }
    },
    {
      "cell_type": "markdown",
      "source": [
        "Random Forest Classifier "
      ],
      "metadata": {
        "id": "L3WPKDa2t_lj"
      }
    },
    {
      "cell_type": "code",
      "source": [
        "from sklearn.ensemble import RandomForestClassifier"
      ],
      "metadata": {
        "id": "ADY2qMBtuET9"
      },
      "execution_count": 18,
      "outputs": []
    },
    {
      "cell_type": "code",
      "source": [
        "rc = RandomForestClassifier(n_estimators = 150)\n"
      ],
      "metadata": {
        "id": "3GUaBVJRuPn1"
      },
      "execution_count": 19,
      "outputs": []
    },
    {
      "cell_type": "code",
      "source": [
        "rc.fit(main_data[:1500], targets[:1500])"
      ],
      "metadata": {
        "colab": {
          "base_uri": "https://localhost:8080/"
        },
        "id": "FIuBpB2yuR-w",
        "outputId": "28ddd712-500d-4c10-bcc6-001d9ec4a994"
      },
      "execution_count": 20,
      "outputs": [
        {
          "output_type": "execute_result",
          "data": {
            "text/plain": [
              "RandomForestClassifier(n_estimators=150)"
            ]
          },
          "metadata": {},
          "execution_count": 20
        }
      ]
    },
    {
      "cell_type": "code",
      "source": [
        "prediction3= rc.predict(main_data[1501:])"
      ],
      "metadata": {
        "id": "NQmKx3h0uUG8"
      },
      "execution_count": 21,
      "outputs": []
    },
    {
      "cell_type": "code",
      "source": [
        "accuracy_score(targets[1501:], prediction3)"
      ],
      "metadata": {
        "colab": {
          "base_uri": "https://localhost:8080/"
        },
        "id": "oO58PHb9u5No",
        "outputId": "d9e24b67-9587-4e8f-91b9-c6c42a2fd8a6"
      },
      "execution_count": 22,
      "outputs": [
        {
          "output_type": "execute_result",
          "data": {
            "text/plain": [
              "0.918918918918919"
            ]
          },
          "metadata": {},
          "execution_count": 22
        }
      ]
    },
    {
      "cell_type": "markdown",
      "source": [
        "**Conclusion**\n",
        "\n",
        "Data maters the most we need a good amount of data for modal.if we have a less data then we can use some other machine learning classifier algorithms like random forest which is also give 91 % accuracy on 1500 trainset which is less data compare to Support vector classifier"
      ],
      "metadata": {
        "id": "9PH-N8GIu9rw"
      }
    }
  ]
}